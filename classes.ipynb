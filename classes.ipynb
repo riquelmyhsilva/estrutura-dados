{
 "cells": [
  {
   "cell_type": "markdown",
   "metadata": {},
   "source": [
    "# Classes e Objetos em Python"
   ]
  },
  {
   "cell_type": "markdown",
   "metadata": {},
   "source": [
    "**\\_\\_init\\_\\_**: É o método construtor, chamado automaticamente quando você cria uma nova instância da classe. Ele é usado para inicializar os atributos do objeto. é um dos \"métodos mágicos\" mais famosos em Python!\n",
    "\n",
    "**self**: Refere-se à instância atual da classe. É necessário para acessar atributos e métodos dentro da classe."
   ]
  },
  {
   "cell_type": "code",
   "execution_count": null,
   "metadata": {},
   "outputs": [],
   "source": [
    "class NomeDaClasse:\n",
    "    def __init__(self, atributo1, atributoN):\n",
    "        self.atributo1 = atributo1\n",
    "        self.atributoN = atributoN\n",
    "\n",
    "    def metodo(self):\n",
    "        # Código do método\n",
    "        pass\n"
   ]
  },
  {
   "cell_type": "code",
   "execution_count": 12,
   "metadata": {},
   "outputs": [
    {
     "name": "stdout",
     "output_type": "stream",
     "text": [
      "[[None, None], [None, None], [None, None], [None, None], [None, None], [None, None], [None, None], [None, None]]\n"
     ]
    }
   ],
   "source": [
    "class Matriz:\n",
    "    def __init__(self, linhas, colunas):\n",
    "        self.linhas = linhas\n",
    "        self.colunas = colunas\n",
    "        self.matriz = [[None for _ in range(colunas)] for _ in range(linhas)]\n",
    "\n",
    "    def mostrar(self, matriz):\n",
    "        for linha in matriz:\n",
    "            print(linha)\n",
    "        # preenche a matriz com valor 'None'  (vazio)\n",
    "\n",
    "mat = Matriz(8, 2)\n",
    "\n",
    "print(mat.matriz)"
   ]
  }
 ],
 "metadata": {
  "kernelspec": {
   "display_name": "Python 3",
   "language": "python",
   "name": "python3"
  },
  "language_info": {
   "codemirror_mode": {
    "name": "ipython",
    "version": 3
   },
   "file_extension": ".py",
   "mimetype": "text/x-python",
   "name": "python",
   "nbconvert_exporter": "python",
   "pygments_lexer": "ipython3",
   "version": "3.12.5"
  }
 },
 "nbformat": 4,
 "nbformat_minor": 2
}
